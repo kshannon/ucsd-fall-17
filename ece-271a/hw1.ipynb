{
 "cells": [
  {
   "cell_type": "code",
   "execution_count": null,
   "metadata": {
    "collapsed": true
   },
   "outputs": [],
   "source": [
    "prior = 20/80"
   ]
  },
  {
   "cell_type": "code",
   "execution_count": 8,
   "metadata": {},
   "outputs": [
    {
     "name": "stdout",
     "output_type": "stream",
     "text": [
      "//anaconda/bin/python\r\n"
     ]
    }
   ],
   "source": [
    "!which python"
   ]
  },
  {
   "cell_type": "code",
   "execution_count": 146,
   "metadata": {},
   "outputs": [],
   "source": [
    "import pandas as pd\n",
    "import numpy as np\n",
    "from scipy.io import loadmat\n",
    "from scipy.misc import imread\n",
    "import matplotlib.pyplot as plt\n",
    "%matplotlib inline\n",
    "from scipy.stats import describe\n",
    "from scipy.fftpack import dct"
   ]
  },
  {
   "cell_type": "markdown",
   "metadata": {},
   "source": [
    "### Training Data Injestion"
   ]
  },
  {
   "cell_type": "code",
   "execution_count": 6,
   "metadata": {},
   "outputs": [],
   "source": [
    "cheeta = loadmat(\"data/TrainingSamplesDCT_8.mat\")"
   ]
  },
  {
   "cell_type": "code",
   "execution_count": 7,
   "metadata": {},
   "outputs": [
    {
     "data": {
      "text/plain": [
       "{'TrainsampleDCT_BG': array([[  2.79215686e+00,   1.82403883e-01,   8.22381982e-02, ...,\n",
       "           8.99171356e-04,   8.20162208e-04,   5.56256629e-03],\n",
       "        [  2.77352941e+00,   1.89948302e-01,   7.13763275e-01, ...,\n",
       "           8.71660205e-03,   7.92740281e-04,   2.27229935e-03],\n",
       "        [  2.80147059e+00,   1.74993685e-02,   4.21107915e-02, ...,\n",
       "           1.37963126e-03,   1.62882836e-03,   2.88076472e-03],\n",
       "        ..., \n",
       "        [  1.85000000e+00,   1.57010159e-01,   1.52944398e-02, ...,\n",
       "           1.29102016e-03,   6.34867561e-05,   1.92029521e-03],\n",
       "        [  2.00735294e+00,   6.66499678e-02,   7.33864684e-02, ...,\n",
       "           2.22899787e-03,   3.96008531e-03,   3.22405038e-04],\n",
       "        [  2.57205882e+00,   6.14495544e-02,   9.93700379e-02, ...,\n",
       "           5.52675439e-03,   1.34849406e-03,   9.29894006e-04]]),\n",
       " 'TrainsampleDCT_FG': array([[  1.62254902e+00,   4.38433862e-01,   1.99470128e-01, ...,\n",
       "           8.49984789e-03,   3.78270042e-03,   3.02880400e-03],\n",
       "        [  1.56372549e+00,   8.21143328e-02,   9.09413795e-02, ...,\n",
       "           3.18521582e-03,   5.81148077e-03,   8.88559648e-03],\n",
       "        [  1.24607843e+00,   1.06458077e-01,   4.86748243e-02, ...,\n",
       "           1.98793183e-03,   2.02433826e-03,   2.26600748e-03],\n",
       "        ..., \n",
       "        [  8.50000000e-01,   2.13586353e-02,   2.73332331e-02, ...,\n",
       "           5.28559315e-03,   5.74533250e-04,   1.30883711e-03],\n",
       "        [  1.32696078e+00,   1.27736043e-02,   7.25986937e-02, ...,\n",
       "           2.48390433e-03,   5.72821344e-03,   6.14234163e-04],\n",
       "        [  1.40637255e+00,   5.37446031e-02,   3.52432448e-02, ...,\n",
       "           1.16665737e-02,   7.05600416e-04,   6.92833289e-04]]),\n",
       " '__globals__': [],\n",
       " '__header__': 'MATLAB 5.0 MAT-file, Platform: PCWIN, Created on: Tue Sep 30 09:32:20 2003',\n",
       " '__version__': '1.0'}"
      ]
     },
     "execution_count": 7,
     "metadata": {},
     "output_type": "execute_result"
    }
   ],
   "source": [
    "cheeta"
   ]
  },
  {
   "cell_type": "code",
   "execution_count": 9,
   "metadata": {},
   "outputs": [
    {
     "data": {
      "text/plain": [
       "['TrainsampleDCT_FG',\n",
       " '__version__',\n",
       " 'TrainsampleDCT_BG',\n",
       " '__header__',\n",
       " '__globals__']"
      ]
     },
     "execution_count": 9,
     "metadata": {},
     "output_type": "execute_result"
    }
   ],
   "source": [
    "cheeta.keys()"
   ]
  },
  {
   "cell_type": "code",
   "execution_count": 21,
   "metadata": {},
   "outputs": [],
   "source": [
    "TrainsampleDCT_FG = cheeta['TrainsampleDCT_FG']\n",
    "TrainsampleDCT_BG = cheeta['TrainsampleDCT_BG']"
   ]
  },
  {
   "cell_type": "code",
   "execution_count": 29,
   "metadata": {
    "scrolled": true
   },
   "outputs": [
    {
     "name": "stdout",
     "output_type": "stream",
     "text": [
      "BG shape: (1053, 64)\n",
      "FG shape (250, 64)\n",
      "type: <type 'numpy.ndarray'>\n"
     ]
    }
   ],
   "source": [
    "print \"BG shape: {}\\nFG shape {}\\ntype: {}\".format(TrainsampleDCT_BG.shape, \n",
    "                                                   TrainsampleDCT_FG.shape, \n",
    "                                                   type(TrainsampleDCT_BG))"
   ]
  },
  {
   "cell_type": "markdown",
   "metadata": {},
   "source": [
    "### Training Data Histogram & Generating Bin Count Probabilities"
   ]
  },
  {
   "cell_type": "code",
   "execution_count": 129,
   "metadata": {},
   "outputs": [
    {
     "name": "stdout",
     "output_type": "stream",
     "text": [
      "<type 'numpy.ndarray'>\n",
      "16000\n",
      "Summary Stats: \n",
      "DescribeResult(nobs=16000, minmax=(0.0, 3.1387254901960779), mean=0.052550818424827728, variance=0.029996217619030981, skewness=8.053710258097745, kurtosis=75.06687135691573)\n"
     ]
    },
    {
     "data": {
      "image/png": "[encoded data removed]",
      "text/plain": [
       "<matplotlib.figure.Figure at 0x12c931a90>"
      ]
     },
     "metadata": {},
     "output_type": "display_data"
    }
   ],
   "source": [
    "fg = vector_info(TrainsampleDCT_FG) #foreground frequency hist"
   ]
  },
  {
   "cell_type": "code",
   "execution_count": 130,
   "metadata": {},
   "outputs": [
    {
     "name": "stdout",
     "output_type": "stream",
     "text": [
      "<type 'numpy.ndarray'>\n",
      "67392\n",
      "Summary Stats: \n",
      "DescribeResult(nobs=67392, minmax=(0.0, 4.1176470588235281), mean=0.062183293626689437, variance=0.13349717365715991, skewness=8.115502712816335, kurtosis=66.29102494266073)\n"
     ]
    },
    {
     "data": {
      "image/png": "[encoded data removed]",
      "text/plain": [
       "<matplotlib.figure.Figure at 0x12c908390>"
      ]
     },
     "metadata": {},
     "output_type": "display_data"
    }
   ],
   "source": [
    "bg = vector_info(TrainsampleDCT_BG) #background frequency hist"
   ]
  },
  {
   "cell_type": "code",
   "execution_count": 131,
   "metadata": {},
   "outputs": [],
   "source": [
    "fg_bin_prob = [bin_count/sum(fg[0]) for bin_count in fg[0]] #Foreground bin count probabilities w/list comprehension"
   ]
  },
  {
   "cell_type": "code",
   "execution_count": 132,
   "metadata": {
    "scrolled": true
   },
   "outputs": [],
   "source": [
    "bg_bin_prob = bg[0]/sum(bg[0]) #Background bin count probabilities w/numpy"
   ]
  },
  {
   "cell_type": "code",
   "execution_count": 133,
   "metadata": {
    "collapsed": true
   },
   "outputs": [],
   "source": [
    "bg_prior = 0.6\n",
    "fg_prior = 0.4"
   ]
  },
  {
   "cell_type": "code",
   "execution_count": null,
   "metadata": {
    "collapsed": true
   },
   "outputs": [],
   "source": []
  },
  {
   "cell_type": "code",
   "execution_count": null,
   "metadata": {
    "collapsed": true
   },
   "outputs": [],
   "source": []
  },
  {
   "cell_type": "code",
   "execution_count": null,
   "metadata": {
    "collapsed": true
   },
   "outputs": [],
   "source": []
  },
  {
   "cell_type": "code",
   "execution_count": null,
   "metadata": {
    "collapsed": true
   },
   "outputs": [],
   "source": []
  },
  {
   "cell_type": "markdown",
   "metadata": {},
   "source": [
    "### Cheeta Image Import --> Numpy"
   ]
  },
  {
   "cell_type": "code",
   "execution_count": 48,
   "metadata": {},
   "outputs": [
    {
     "name": "stdout",
     "output_type": "stream",
     "text": [
      "<type 'numpy.ndarray'>\n",
      "(255, 270)\n",
      "68850\n"
     ]
    }
   ],
   "source": [
    "rawimage = imread('data/cheetah.bmp', 'L')\n",
    "print type(rawimage)\n",
    "print rawimage.shape\n",
    "print rawimage.size"
   ]
  },
  {
   "cell_type": "code",
   "execution_count": 49,
   "metadata": {},
   "outputs": [
    {
     "data": {
      "text/plain": [
       "array([[ 121.,  120.,  111., ...,  142.,  101.,    0.],\n",
       "       [ 120.,  120.,  115., ...,  137.,  100.,    0.],\n",
       "       [ 122.,  121.,  118., ...,  131.,   99.,    0.],\n",
       "       ..., \n",
       "       [ 151.,  158.,  161., ...,  140.,  105.,    0.],\n",
       "       [ 156.,  165.,  172., ...,  134.,  103.,    0.],\n",
       "       [ 173.,  179.,  192., ...,  129.,  101.,    0.]], dtype=float32)"
      ]
     },
     "execution_count": 49,
     "metadata": {},
     "output_type": "execute_result"
    }
   ],
   "source": [
    "rawimage"
   ]
  },
  {
   "cell_type": "markdown",
   "metadata": {},
   "source": [
    "### Main Classifier Code"
   ]
  },
  {
   "cell_type": "code",
   "execution_count": null,
   "metadata": {},
   "outputs": [],
   "source": []
  },
  {
   "cell_type": "code",
   "execution_count": null,
   "metadata": {},
   "outputs": [],
   "source": [
    "from numpy.lib.stride_tricks import as_strided\n",
    "a_view = as_strided()\n"
   ]
  },
  {
   "cell_type": "code",
   "execution_count": null,
   "metadata": {
    "collapsed": true
   },
   "outputs": [],
   "source": [
    "new_img = np.zeros_like(rawimage) # new_img is a zero filled carbon copy of cheetah.\n",
    "\n",
    "for patch in rawimage:\n",
    "    # slicng pattern\n",
    "    classify_patch(patch,bg_prior,fg_prior,fg_bin_prob,bg_bin_prob)\n",
    "    \n",
    "    \n",
    "#     slice out patch\n",
    "#     send slice to classifier_function()\n",
    "#     return classifier decision\n",
    "#     update new image\n",
    "#     possibly save new image to folder with iterating number name for view later\n",
    "#     if end condition:\n",
    "#         exit\n",
    "#     else:\n",
    "#         update corrdinates for slider\n",
    "\n",
    "# load up new image and see what happened....\n",
    "\n",
    "# classifier_function():\n",
    "#     classify the new patch using DCT."
   ]
  },
  {
   "cell_type": "code",
   "execution_count": 65,
   "metadata": {},
   "outputs": [],
   "source": [
    "def img_screen(img, block_size, stride=1):\n",
    "    x, y = block_size\n",
    "    a_view = as_strided(a, shape=(a.shape[0] - ws[0] + 1, a.shape[1] - ws[1] + 1) + ws, strides=a.strides*2)\n",
    "    \n",
    "    \n",
    "    "
   ]
  },
  {
   "cell_type": "code",
   "execution_count": null,
   "metadata": {
    "collapsed": true
   },
   "outputs": [],
   "source": []
  },
  {
   "cell_type": "code",
   "execution_count": null,
   "metadata": {
    "collapsed": true
   },
   "outputs": [],
   "source": []
  },
  {
   "cell_type": "code",
   "execution_count": 66,
   "metadata": {},
   "outputs": [
    {
     "name": "stdout",
     "output_type": "stream",
     "text": [
      "8 8 1\n"
     ]
    }
   ],
   "source": [
    "img_screen(rawimage, [8,8])"
   ]
  },
  {
   "cell_type": "code",
   "execution_count": null,
   "metadata": {
    "collapsed": true
   },
   "outputs": [],
   "source": []
  },
  {
   "cell_type": "code",
   "execution_count": null,
   "metadata": {
    "collapsed": true
   },
   "outputs": [],
   "source": []
  },
  {
   "cell_type": "markdown",
   "metadata": {},
   "source": [
    "## FUNCTIONS"
   ]
  },
  {
   "cell_type": "code",
   "execution_count": 128,
   "metadata": {},
   "outputs": [],
   "source": [
    "def vector_info(array):\n",
    "    flat_array = np.ndarray.flatten(array)\n",
    "    print type(flat_array)\n",
    "    print flat_array.size\n",
    "    print \"Summary Stats: \\n{}\".format(describe(flat_array))\n",
    "    plt.hist(flat_array,bins=100)\n",
    "    plt.ylim([0,35])\n",
    "    (n2, bins2, patches) = plt.hist(flat_array,bins=64)\n",
    "    return (n2, bins2, patches)"
   ]
  },
  {
   "cell_type": "code",
   "execution_count": null,
   "metadata": {
    "collapsed": true
   },
   "outputs": [],
   "source": [
    "def classify_patch(patch,bg_prior,fg_prior,fg_bin_prob,bg_bin_prob):\n",
    "    pass"
   ]
  },
  {
   "cell_type": "code",
   "execution_count": null,
   "metadata": {
    "collapsed": true
   },
   "outputs": [],
   "source": [
    "class Fg_Bg_Classifier(object):\n",
    "    \"\"\"\n",
    "    doc strings to do...\n",
    "    \"\"\"\n",
    "    \n",
    "    def __init__(self, bg_prior=0.6,fg_prior=0.4):\n",
    "        self.bg_prior = bg_prior\n",
    "        self.fg_prior = fg_prior\n",
    "    \n",
    "    def train\n",
    "    \n",
    "    \n",
    "    \n",
    "    pass"
   ]
  }
 ],
 "metadata": {
  "anaconda-cloud": {},
  "kernelspec": {
   "display_name": "Python [conda root]",
   "language": "python",
   "name": "conda-root-py"
  },
  "language_info": {
   "codemirror_mode": {
    "name": "ipython",
    "version": 2
   },
   "file_extension": ".py",
   "mimetype": "text/x-python",
   "name": "python",
   "nbconvert_exporter": "python",
   "pygments_lexer": "ipython2",
   "version": "2.7.12"
  }
 },
 "nbformat": 4,
 "nbformat_minor": 2
}
